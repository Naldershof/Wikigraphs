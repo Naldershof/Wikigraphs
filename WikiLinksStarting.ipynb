{
  "nbformat": 4,
  "nbformat_minor": 0,
  "metadata": {
    "colab": {
      "name": "WikiLinksStarting.ipynb",
      "provenance": [],
      "mount_file_id": "1btzcvK9imwEi-oIVDKB8v5UpKw8oq8yq",
      "authorship_tag": "ABX9TyPQBeNrb4615gABPv3Orh1k",
      "include_colab_link": true
    },
    "kernelspec": {
      "name": "python3",
      "display_name": "Python 3"
    },
    "language_info": {
      "name": "python"
    }
  },
  "cells": [
    {
      "cell_type": "markdown",
      "metadata": {
        "id": "view-in-github",
        "colab_type": "text"
      },
      "source": [
        "<a href=\"https://colab.research.google.com/github/Naldershof/Wikigraphs/blob/main/WikiLinksStarting.ipynb\" target=\"_parent\"><img src=\"https://colab.research.google.com/assets/colab-badge.svg\" alt=\"Open In Colab\"/></a>"
      ]
    },
    {
      "cell_type": "code",
      "metadata": {
        "id": "CZ2GSNKTR52b"
      },
      "source": [
        "try:  \n",
        "  import wikipedia\n",
        "except:\n",
        "  !pip install wikipedia\n",
        "  import wikipedia\n",
        "\n",
        "try:\n",
        "  import umap\n",
        "  import umap.plot\n",
        "except:\n",
        "  !pip install umap-learn\n",
        "  !pip install umap-learn[plot]\n",
        "  import umap\n",
        "  import umap.plot\n",
        "\n",
        "try:\n",
        "  import plotly.express as px\n",
        "except:\n",
        "  !pip install plotly\n",
        "  import plotly.express as px\n",
        "\n",
        "import seaborn as sns\n",
        "import pandas as pd\n",
        "import numpy as np\n",
        "import networkx as nx\n",
        "import matplotlib.pyplot as plt\n",
        "%matplotlib inline"
      ],
      "execution_count": 44,
      "outputs": []
    },
    {
      "cell_type": "code",
      "metadata": {
        "id": "qYvS61ydccWM"
      },
      "source": [
        "# TODO TOMORROW\n",
        "# Filter by pageviews instead\n",
        "# Can get page views from sample GCP project, should be good enough even if the rest of this isn't super fast. "
      ],
      "execution_count": 3,
      "outputs": []
    },
    {
      "cell_type": "code",
      "metadata": {
        "id": "XvAlT33ZTD8A"
      },
      "source": [
        "#https://wikipedia.readthedocs.io/en/latest/code.html#api\n",
        "Philosophy = wikipedia.page(\"Philosophy\")"
      ],
      "execution_count": 4,
      "outputs": []
    },
    {
      "cell_type": "code",
      "metadata": {
        "colab": {
          "base_uri": "https://localhost:8080/"
        },
        "id": "LYB-stliO_my",
        "outputId": "6c1d1926-76f5-48b0-de7d-0b5373390f22"
      },
      "source": [
        "%%time\n",
        "# 1000 may be too many, 100 takes like 40 seconds, so should take around 5 min \n",
        "# Fuck it, let's go crazy, 5000, thirty minutes or whatever, I'll go ddo something else for a bit\n",
        "max_links = min(5000, len(Philosophy.links))\n",
        "print(max_links)\n",
        "\n",
        "# So while we're dealing with getting those file uploads, \n",
        "# lets just try selecting a random 100 of the links from philosophy\n",
        "# getting the links between them, and then creating a graph off that \n",
        "# will let us start getting things moving\n",
        "\n",
        "# Yeah this is not very performant... We're probably gonna have to just\n",
        "# use the actual stuff.   \n",
        "link_dict = {}\n",
        "all_links = []\n",
        "\n",
        "random_links = np.random.choice(Philosophy.links, max_links, replace=False)\n",
        "\n",
        "# Record things that we don't have and remove them from all our lists\n",
        "missing_pages = []\n",
        "\n",
        "for link in random_links:\n",
        "  try:\n",
        "    page = wikipedia.page(link)\n",
        "    page_links = page.links\n",
        "    # Thissss is going to get real nasty when I remove the intersection shit, GET READY FOR SOME NONSENSE \n",
        "    #link_dict[link] = list(set(random_links).intersection(page_links))\n",
        "    # Yeah I should do the direction 2 thing but that's a fuckload of data... I might have to just give up and actually use the real data...\n",
        "    link_dict[link] = page_links\n",
        "    all_links.extend(page_links)\n",
        "  except:\n",
        "    missing_pages.append(link)"
      ],
      "execution_count": 39,
      "outputs": [
        {
          "output_type": "stream",
          "name": "stdout",
          "text": [
            "1245\n"
          ]
        },
        {
          "output_type": "stream",
          "name": "stderr",
          "text": [
            "/usr/local/lib/python3.7/dist-packages/wikipedia/wikipedia.py:389: UserWarning:\n",
            "\n",
            "No parser was explicitly specified, so I'm using the best available HTML parser for this system (\"lxml\"). This usually isn't a problem, but if you run this code on another system, or in a different virtual environment, it may use a different parser and behave differently.\n",
            "\n",
            "The code that caused this warning is on line 389 of the file /usr/local/lib/python3.7/dist-packages/wikipedia/wikipedia.py. To get rid of this warning, pass the additional argument 'features=\"lxml\"' to the BeautifulSoup constructor.\n",
            "\n",
            "\n"
          ]
        },
        {
          "output_type": "stream",
          "name": "stdout",
          "text": [
            "CPU times: user 51.4 s, sys: 2.92 s, total: 54.3 s\n",
            "Wall time: 4min 33s\n"
          ]
        }
      ]
    },
    {
      "cell_type": "code",
      "metadata": {
        "colab": {
          "base_uri": "https://localhost:8080/"
        },
        "id": "84C5VEseTvFK",
        "outputId": "e747f91b-5e4e-4a1b-c1ee-b24bb6e99659"
      },
      "source": [
        "# And next, come back and get links from all the new pages to pages in the original dataset, should basically make it so that we have \n",
        "# links of degree 2 from the original page, could be better, but not bad at all. \n",
        "# Nah, that's too many, but what if instead we trim this down to only links which are seen at least twice? five times? Lets see how many. \n",
        "df = pd.DataFrame.from_dict(Counter(all_links), orient='index').reset_index()\n",
        "df.columns = ['title', 'counts']\n",
        "print(\"Limiting to above {}\".format(df.counts.quantile(0.975)))\n",
        "lim_df = df[df.counts >= df.counts.quantile(0.975)]\n",
        "print(lim_df.shape)"
      ],
      "execution_count": 64,
      "outputs": [
        {
          "output_type": "stream",
          "name": "stdout",
          "text": [
            "Limiting to above 28.0\n",
            "(3590, 2)\n"
          ]
        }
      ]
    },
    {
      "cell_type": "code",
      "metadata": {
        "colab": {
          "base_uri": "https://localhost:8080/"
        },
        "id": "25zu9j5bjt9J",
        "outputId": "d93a18a2-9ba8-472b-bba2-c5e808c207d6"
      },
      "source": [
        "new_pages = list(lim_df['title'])\n",
        "actually_new_pages = [x for x in new_pages if x not in random_links]\n",
        "len(actually_new_pages)"
      ],
      "execution_count": 70,
      "outputs": [
        {
          "output_type": "execute_result",
          "data": {
            "text/plain": [
              "2606"
            ]
          },
          "metadata": {},
          "execution_count": 70
        }
      ]
    },
    {
      "cell_type": "code",
      "metadata": {
        "colab": {
          "base_uri": "https://localhost:8080/"
        },
        "id": "n2EJKUhEjUAN",
        "outputId": "44bcff54-a506-4469-fbe5-37d7341ba383"
      },
      "source": [
        "%%time\n",
        "for link in actually_new_pages:\n",
        "  try:\n",
        "    page = wikipedia.page(link)\n",
        "    page_links = page.links\n",
        "    # Thissss is going to get real nasty when I remove the intersection shit, GET READY FOR SOME NONSENSE \n",
        "    #link_dict[link] = list(set(random_links).intersection(page_links))\n",
        "    # Yeah I should do the direction 2 thing but that's a fuckload of data... I might have to just give up and actually use the real data...\n",
        "    link_dict[link] = page_links\n",
        "    all_links.extend(page_links)\n",
        "  except:\n",
        "    #missing_pages.append(link)\n",
        "    pass"
      ],
      "execution_count": 71,
      "outputs": [
        {
          "output_type": "stream",
          "name": "stderr",
          "text": [
            "/usr/local/lib/python3.7/dist-packages/wikipedia/wikipedia.py:389: UserWarning:\n",
            "\n",
            "No parser was explicitly specified, so I'm using the best available HTML parser for this system (\"lxml\"). This usually isn't a problem, but if you run this code on another system, or in a different virtual environment, it may use a different parser and behave differently.\n",
            "\n",
            "The code that caused this warning is on line 389 of the file /usr/local/lib/python3.7/dist-packages/wikipedia/wikipedia.py. To get rid of this warning, pass the additional argument 'features=\"lxml\"' to the BeautifulSoup constructor.\n",
            "\n",
            "\n"
          ]
        }
      ]
    },
    {
      "cell_type": "code",
      "metadata": {
        "id": "DMt1n36fR8sY"
      },
      "source": [
        "for missing in missing_pages:\n",
        "  # Yeah, this is nonsense, fix it, I think instead just prune isolates should take care of it\n",
        "  # This code be way better but I'm lazy rn\n",
        "  try:\n",
        "    del(link_dict[missing])\n",
        "  except:\n",
        "    pass"
      ],
      "execution_count": 74,
      "outputs": []
    },
    {
      "cell_type": "code",
      "metadata": {
        "id": "3wr9koWYRfCL"
      },
      "source": [
        "G = nx.from_dict_of_lists(link_dict, nx.DiGraph)\n",
        "#G = nx.from_dict_of_lists(link_dict, nx.Graph)\n",
        "G.remove_nodes_from(list(nx.isolates(G)))"
      ],
      "execution_count": 75,
      "outputs": []
    },
    {
      "cell_type": "code",
      "metadata": {
        "id": "ZsJICPePoKb9"
      },
      "source": [
        "# Ok so remove nodes that are not in the union of actually_new_pages and random_links\n",
        "nodes_of_importance = list(random_links + actually_new_pages)"
      ],
      "execution_count": null,
      "outputs": []
    },
    {
      "cell_type": "code",
      "metadata": {
        "id": "LsQpJbm3SYAC",
        "colab": {
          "base_uri": "https://localhost:8080/"
        },
        "outputId": "c1560176-4f2d-450e-ecc3-9b5642271679"
      },
      "source": [
        "adjacency = nx.linalg.graphmatrix.adjacency_matrix(G)\n",
        "print(adjacency.shape)"
      ],
      "execution_count": 76,
      "outputs": [
        {
          "output_type": "stream",
          "name": "stdout",
          "text": [
            "(293120, 293120)\n"
          ]
        }
      ]
    },
    {
      "cell_type": "code",
      "metadata": {
        "colab": {
          "base_uri": "https://localhost:8080/"
        },
        "id": "VCSxhxSmVy0V",
        "outputId": "81623efc-b64c-4c2d-b321-3b8266a3c2b3"
      },
      "source": [
        "%%time\n",
        "mapper = umap.UMAP(metric='cosine', random_state=42, \n",
        "                   low_memory=False, n_neighbors=10).fit(adjacency)"
      ],
      "execution_count": null,
      "outputs": [
        {
          "output_type": "stream",
          "name": "stderr",
          "text": [
            "/usr/local/lib/python3.7/dist-packages/umap/umap_.py:126: UserWarning:\n",
            "\n",
            "A few of your vertices were disconnected from the manifold.  This shouldn't cause problems.\n",
            "Disconnection_distance = 1 has removed 848 edges.\n",
            "It has only fully disconnected 64 vertices.\n",
            "Use umap.utils.disconnected_vertices() to identify them.\n",
            "\n"
          ]
        }
      ]
    },
    {
      "cell_type": "code",
      "metadata": {
        "id": "M7qAfxAWXwZ1"
      },
      "source": [
        "umap.plot.points(mapper, values=np.arange(adjacency.shape[0]), theme='viridis')"
      ],
      "execution_count": null,
      "outputs": []
    },
    {
      "cell_type": "code",
      "metadata": {
        "id": "0k4CegLLf57a"
      },
      "source": [
        "proj_2d = mapper.fit_transform(adjacency)"
      ],
      "execution_count": null,
      "outputs": []
    },
    {
      "cell_type": "code",
      "metadata": {
        "colab": {
          "base_uri": "https://localhost:8080/",
          "height": 542
        },
        "id": "ysEhbdypgI72",
        "outputId": "69ee933b-9562-49af-cded-8b3896ac944a"
      },
      "source": [
        "fig_2d = px.scatter(\n",
        "    proj_2d, x=0, y=1, text=list(nx.nodes(G))    \n",
        ")\n",
        "\n",
        "fig_2d.show()"
      ],
      "execution_count": null,
      "outputs": [
        {
          "output_type": "display_data",
          "data": {
            "text/html": [
              "<html>\n",
              "<head><meta charset=\"utf-8\" /></head>\n",
              "<body>\n",
              "    <div>\n",
              "            <script src=\"https://cdnjs.cloudflare.com/ajax/libs/mathjax/2.7.5/MathJax.js?config=TeX-AMS-MML_SVG\"></script><script type=\"text/javascript\">if (window.MathJax) {MathJax.Hub.Config({SVG: {font: \"STIX-Web\"}});}</script>\n",
              "                <script type=\"text/javascript\">window.PlotlyConfig = {MathJaxConfig: 'local'};</script>\n",
              "        <script src=\"https://cdn.plot.ly/plotly-latest.min.js\"></script>    \n",
              "            <div id=\"63ba74ed-38d6-474a-8d84-58f8e6b47ebb\" class=\"plotly-graph-div\" style=\"height:525px; width:100%;\"></div>\n",
              "            <script type=\"text/javascript\">\n",
              "                \n",
              "                    window.PLOTLYENV=window.PLOTLYENV || {};\n",
              "                    \n",
              "                if (document.getElementById(\"63ba74ed-38d6-474a-8d84-58f8e6b47ebb\")) {\n",
              "                    Plotly.newPlot(\n",
              "                        '63ba74ed-38d6-474a-8d84-58f8e6b47ebb',\n",
              "                        [{\"hoverlabel\": {\"namelength\": 0}, \"hovertemplate\": \"0=%{x}<br>1=%{y}<br>text=%{text}\", \"legendgroup\": \"\", \"marker\": {\"color\": \"#636efa\", \"symbol\": \"circle\"}, \"mode\": \"markers+text\", \"name\": \"\", \"showlegend\": false, \"text\": [\"Greek mathematics\", \"Empirical evidence\", \"Astrology\", \"Integral\", \"Langlands program\", \"Brouwer\\u2013Hilbert controversy\", \"Islamic mathematics\", \"Hypothesis testing\", \"Real number\", \"Topology\", \"Keith Devlin\", \"Bibcode (identifier)\", \"Hilbert's program\", \"Quaternion\", \"Hindu\\u2013Arabic numeral system\", \"Anti-realism\", \"Hypothesis\", \"Linear algebra\", \"Philosophy of mathematics\", \"G\\u00f6del's incompleteness theorems\", \"False proof\", \"Trigonometry\", \"Cicero\", \"Language of mathematics\", \"Number theory\", \"Robert Scott (philologist)\", \"Ancient Greek\", \"Franciscus Vieta\", \"Goldbach's conjecture\", \"Mathematical rigor\", \"Axiom\", \"Applied mathematics\", \"Hdl (identifier)\", \"Measure theory\", \"Gottfried Wilhelm Leibniz\", \"Multiplication\", \"Infinite cardinal\", \"Medicine\", \"OCLC (identifier)\", \"Wolfgang Sartorius von Waltershausen\", \"Counting\", \"Latin language\", \"Science, technology, engineering, and mathematics\", \"Area\", \"Selection algorithm\", \"Transfinite number\", \"Homological algebra\", \"Axiomatic system\", \"Convex optimization\", \"Objective function\", \"Axiomatic set theory\", \"Islamic Golden Age\", \"Formal system\", \"Lynn Steen\", \"Knowledge\", \"Rounding error\", \"Set (mathematics)\", \"Sharaf al-D\\u012bn al-\\u1e6c\\u016bs\\u012b\", \"Business\", \"Mathematical science\", \"Operations research\", \"Information theory\", \"Herbert Robbins\", \"Equation\", \"Control theory\", \"Diophantine geometry\", \"Arithmetic\", \"Euclid's Elements\", \"Aleph number\", \"Random sampling\", \"Prime number\", \"Set theory\", \"Mathematical sociology\", \"Proofs from THE BOOK\", \"Spherical trigonometry\", \"Republic (Plato)\", \"Eugene Wigner\", \"Statistics\", \"Cardinal number\", \"Benjamin Peirce\", \"Theorem\", \"Intuitionist\", \"Expected loss\", \"Industry (manufacturing)\", \"Elementary arithmetic\", \"Mathematical statistics\", \"Plural\", \"Group theory\", \"Computability theory (computation)\", \"Doi (identifier)\", \"Open problem\", \"Ancient Egypt\", \"Omar Khayyam\", \"Polynomial\", \"List of mathematical jargon\", \"Kepler conjecture\", \"Projective geometry\", \"Finance\", \"Computer science\", \"Mark Steiner\", \"Ancient Greeks\", \"Astronomy\", \"Physical objects\", \"Algebraic topology\", \"Abstract algebra\", \"Algebra\", \"Kurt G\\u00f6del\", \"Topological groups\", \"Abel Prize\", \"Renate Tobies\", \"Encyclopaedia of Mathematics\", \"Morse theory\", \"Real analysis\", \"Space (mathematics)\", \"Characterization (mathematics)\", \"Barbara Oakley\", \"Fractal\", \"Proof assistant\", \"Metaphysics\", \"Land measurement\", \"Theoretical computer science\", \"Millennium Prize Problems\", \"PMID (identifier)\", \"Numerical method\", \"Entropy (information theory)\", \"Hodge conjecture\", \"Compass and straightedge constructions\", \"C.R. Rao\", \"MRDP theorem\", \"General relativity\", \"Iris Runge\", \"Uncertainty\", \"Sexagesimal\", \"Axiomatization\", \"Fast Fourier transform\", \"Mathematical notation\", \"Mathematics Subject Classification\", \"Symbolic logic\", \"Algorithm\", \"Theory of computation\", \"Finite geometry\", \"Mathematical sciences\", \"Computational mathematics\", \"Bulletin of the American Mathematical Society\", \"Intuition (knowledge)\", \"Approximation theory\", \"Statistical hypothesis testing\", \"Proof (mathematics)\", \"Mathematical analysis\", \"Point-set topology\", \"Analytic number theory\", \"Vector calculus\", \"Combinatorics\", \"Fiber bundles\", \"The School of Athens\", \"Yadolah Dodge\", \"Alfred North Whitehead\", \"ISBN (identifier)\", \"Neuter (grammar)\", \"Charles Sanders Peirce\", \"Discretization\", \"Mathematical finance\", \"Manifold\", \"Mathematical objects\", \"Riemann hypothesis\", \"Fermat's Last Theorem\", \"Experimental mathematics\", \"Physicist\", \"Science (journal)\", \"Pythagorean theorem\", \"Morphological derivation\", \"Decimal point\", \"Prehistoric\", \"Richard Courant\", \"Computational complexity theory\", \"Controversy over Cantor's theory\", \"Abstraction\", \"Adjective\", \"Natural number\", \"Design of experiments\", \"Mathematical problem\", \"Florian Cajori\", \"Pythagorean triple\", \"Proof by contradiction\", \"MR (identifier)\", \"Conic sections\", \"The Oxford Dictionary of English Etymology\", \"Richard Feynman\", \"Areas of mathematics\", \"Group (mathematics)\", \"Giuseppe Peano\", \"Type theory\", \"G\\u00fcnter M. Ziegler\", \"Massimo Pigliucci\", \"Pi\", \"Observational study\", \"Function (mathematics)\", \"Timeline of scientific discoveries\", \"Leonardo Fibonacci\", \"Chaos theory\", \"Shape\", \"Hipparchus of Nicaea\", \"Homotopy theory\", \"Operation (mathematics)\", \"Babylonian mathematics\", \"Computer-assisted proof\", \"Logicist\", \"Parabola\", \"Bertrand Russell\", \"Approximation\", \"G\\u00f6del's incompleteness theorem\", \"Wikiversity\", \"Poincar\\u00e9 conjecture\", \"Aesthetics\", \"Subtraction\", \"Tensor calculus\", \"Galois groups\", \"Analytic geometry\", \"Liberal arts\", \"Feit\\u2013Thompson theorem\", \"Galois theory\", \"Numerical analysis\", \"Measurement\", \"Mathematical jargon\", \"Order theory\", \"Fundamental theorem of algebra\", \"Mathematical structure\", \"Fundamental interaction\", \"Bonnie Gold\", \"Symbolic computation\", \"Mathematical optimization\", \"Jan Gullberg\", \"Continuous function\", \"Pythagoreanism\", \"Mathematical beauty\", \"Octonion\", \"Category theory\", \"Computer algebra\", \"Cost\", \"JSTOR (identifier)\", \"Lie group\", \"Cryptography\", \"Ring (mathematics)\", \"Mathematical logic\", \"Solids of revolution\", \"The Unreasonable Effectiveness of Mathematics in the Natural Sciences\", \"Statistical method\", \"Early modern period\", \"Data compression\", \"Haskell Curry\", \"Euclidean geometry\", \"Integer\", \"Twin prime\", \"Mathematical economics\", \"A Greek\\u2013English Lexicon\", \"Vector space\", \"Recreational mathematics\", \"Metrizability theory\", \"Differential equation\", \"History of Mathematics\", \"Apollonius of Perga\", \"Non-Euclidean geometries\", \"Mathematical proof\", \"Calculus\", \"Multilinear algebra\", \"Convex geometry\", \"Pure mathematics\", \"Outline of mathematics\", \"Law of excluded middle\", \"Henry Liddell\", \"Statistical decision theory\", \"Geometric topology\", \"Pattern\", \"Chern Medal\", \"Differential geometry\", \"Oxford English Dictionary\", \"Formalism (mathematics)\", \"Universal algebra\", \"Communications on Pure and Applied Mathematics\", \"Geometry of numbers\", \"Social sciences\", \"Frank Kelly (mathematician)\", \"Isaac Newton\", \"Hilbert's problems\", \"Philosophy Now\", \"Philosopher of mathematics\", \"Peter Whittle (mathematician)\", \"Mathematics and art\", \"Independence (mathematical logic)\", \"Method of exhaustion\", \"Mesopotamia\", \"Glossary of areas of mathematics\", \"Infinite series\", \"Riemann surface\", \"International Mathematical Olympiad\", \"Numerical linear algebra\", \"Deterministic system (mathematics)\", \"Muhammad ibn Musa al-Khwarizmi\", \"Natural science\", \"Fraction (mathematics)\", \"ISSN (identifier)\", \"Mathematical Reviews\", \"Marcus du Sautoy\", \"Complex analysis\", \"Number system\", \"Lists of mathematics topics\", \"Mathematics education\", \"Western world\", \"Foundations of mathematics\", \"Differential topology\", \"Bakhshali manuscript\", \"Leonhard Euler\", \"Aristotle\", \"History of mathematics\", \"Homeomorphism\", \"Complex number\", \"Carl Friedrich Gauss\", \"Dynamical system\", \"Abstraction (mathematics)\", \"Model theory\", \"Subset\", \"Commutative algebra\", \"Conjecture\", \"Calipers\", \"Vector (geometric)\", \"Pythagoreans\", \"Estimation theory\", \"Relationship between mathematics and physics\", \"Mathematicians\", \"Differential geometry and topology\", \"Engineering\", \"Quantum mechanics\", \"G. H. Hardy\", \"David Hilbert\", \"Parameter estimation\", \"Wolf Prize in Mathematics\", \"Matrix theory\", \"Mathematical and theoretical biology\", \"Mathematical chemistry\", \"Algebraic geometry\", \"Four color theorem\", \"A Mathematician's Apology\", \"Morris Kline\", \"Elementary algebra\", \"Abacus\", \"Tally sticks\", \"Fluid dynamics\", \"Mary Leng\", \"L. E. J. Brouwer\", \"Field (mathematics)\", \"Geometry\", \"Division (mathematics)\", \"Set-theoretic topology\", \"Babylonia\", \"Raphael\", \"Logic\", \"Karl Popper\", \"Science\", \"Deductive reasoning\", \"String theory\", \"Physics\", \"Infinity\", \"Functional analysis\", \"Probability theory\", \"Rigor\", \"Rational number\", \"Statistical inference\", \"Addition\", \"Quantity\", \"Fields Medal\", \"Truth\", \"Definition\", \"Turing machine\", \"Principia Mathematica\", \"Recursion theory\", \"Cosine\", \"Simplicity\", \"Saint Augustine\", \"Before Christ\", \"Risk\", \"Deductive\"], \"type\": \"scatter\", \"x\": [11.866659164428711, 11.903450012207031, 10.485441207885742, 15.572242736816406, 13.299745559692383, 13.177445411682129, 11.626216888427734, 10.430099487304688, 14.83338451385498, 16.42621421813965, 12.757922172546387, 14.83032512664795, 13.648700714111328, 14.287755012512207, 11.568241119384766, 12.016976356506348, 10.182572364807129, 16.03036880493164, 14.656566619873047, 13.542082786560059, 12.043675422668457, 16.925865173339844, 11.66345500946045, 14.724278450012207, 15.62205696105957, 10.218650817871094, 10.90225887298584, 10.91188907623291, 12.92563247680664, 12.344527244567871, 13.846031188964844, 16.10887908935547, 14.671843528747559, 17.087711334228516, 11.853428840637207, 14.399064064025879, 13.453453063964844, 10.62847900390625, 14.778274536132812, 12.844169616699219, 13.733976364135742, 10.51569938659668, 10.358415603637695, 13.664880752563477, 11.401542663574219, 13.484781265258789, 16.972057342529297, 13.946897506713867, 11.620477676391602, 10.506020545959473, 14.873798370361328, 11.244072914123535, 13.759111404418945, 10.800005912780762, 11.76370620727539, 11.335821151733398, 14.629607200622559, 11.529743194580078, 12.075844764709473, 10.22043514251709, 16.510578155517578, 16.57062530517578, 10.496089935302734, 14.859790802001953, 16.42279624938965, 16.140830993652344, 16.4460391998291, 13.036113739013672, 13.714607238769531, 10.561258316040039, 13.851897239685059, 14.729815483093262, 16.514368057250977, 13.110454559326172, 11.756006240844727, 11.647540092468262, 12.275355339050293, 16.592132568359375, 13.996719360351562, 12.395368576049805, 14.143414497375488, 13.233214378356934, 15.43642520904541, 10.777229309082031, 14.398519515991211, 16.648557662963867, 10.29177188873291, 15.783230781555176, 15.2542142868042, 14.905552864074707, 12.201066017150879, 11.279618263244629, 11.569181442260742, 14.68001651763916, 13.90456485748291, 12.545902252197266, 13.896036148071289, 11.459701538085938, 16.4367618560791, 12.375008583068848, 11.105020523071289, 10.80982494354248, 11.865782737731934, 17.01255989074707, 16.15008544921875, 16.818227767944336, 13.358946800231934, 13.816615104675293, 12.248176574707031, 12.026902198791504, 11.118159294128418, 13.629390716552734, 16.96677589416504, 14.524765968322754, 10.889734268188477, 10.954442024230957, 14.036568641662598, 13.260692596435547, 11.66158676147461, 11.025415420532227, 16.06717872619629, 12.740432739257812, 14.755041122436523, 11.369260787963867, 11.702970504760742, 13.184173583984375, 13.706844329833984, 10.131211280822754, 12.383733749389648, 10.618552207946777, 10.669710159301758, 10.2360258102417, 11.679072380065918, 14.04502010345459, 12.382429122924805, 13.697545051574707, 16.814611434936523, 14.908377647399902, 16.005048751831055, 16.639314651489258, 16.047122955322266, 10.32436752319336, 16.391117095947266, 13.113814353942871, 12.164137840270996, 15.672212600708008, 10.258280754089355, 14.367822647094727, 15.751873970031738, 16.803415298461914, 17.02685546875, 15.767794609069824, 16.251445770263672, 14.925117492675781, 11.557490348815918, 10.541929244995117, 12.339439392089844, 15.012321472167969, 10.851197242736816, 12.070225715637207, 11.695769309997559, 16.486448287963867, 14.947135925292969, 14.306172370910645, 12.959074020385742, 13.158936500549316, 12.263246536254883, 10.862306594848633, 10.92103099822998, 13.559592247009277, 10.585701942443848, 11.619586944580078, 10.859018325805664, 11.996789932250977, 16.553682327270508, 13.51806640625, 11.664127349853516, 10.48336124420166, 14.235355377197266, 10.227208137512207, 13.024407386779785, 11.224959373474121, 12.6412353515625, 13.9684476852417, 14.90681266784668, 12.976276397705078, 10.955778121948242, 10.871044158935547, 16.214242935180664, 14.572367668151855, 13.466109275817871, 16.29755401611328, 12.742342948913574, 11.832307815551758, 13.30974006652832, 10.32143497467041, 15.047853469848633, 11.320708274841309, 11.196974754333496, 15.58619213104248, 13.757189750671387, 11.829146385192871, 16.893821716308594, 14.643806457519531, 11.603129386901855, 12.221237182617188, 13.241605758666992, 13.36060905456543, 12.533143997192383, 11.184243202209473, 13.644328117370605, 11.357264518737793, 13.225826263427734, 11.755080223083496, 14.572028160095215, 15.828393936157227, 13.960368156433105, 15.862688064575195, 10.493669509887695, 11.951297760009766, 14.105371475219727, 16.624582290649414, 10.518793106079102, 13.878122329711914, 16.52836799621582, 13.719063758850098, 14.674320220947266, 10.550941467285156, 12.811643600463867, 16.906892776489258, 16.376611709594727, 11.336012840270996, 15.100296974182129, 11.574056625366211, 14.178475379943848, 14.025444984436035, 16.31393051147461, 16.619932174682617, 10.811868667602539, 14.964109420776367, 14.285242080688477, 16.2308292388916, 14.325937271118164, 14.78707504272461, 10.925933837890625, 15.565423965454102, 16.868661880493164, 10.982649803161621, 11.632461547851562, 13.101701736450195, 15.782905578613281, 14.813531875610352, 12.761384010314941, 16.398107528686523, 10.328919410705566, 14.573945999145508, 16.334442138671875, 13.82598876953125, 16.036115646362305, 15.35583209991455, 13.478102684020996, 13.79770565032959, 14.335017204284668, 16.11815643310547, 16.12975311279297, 13.992305755615234, 16.75588035583496, 16.33576202392578, 13.035574913024902, 10.390073776245117, 15.557405471801758, 16.90237045288086, 11.6600341796875, 11.90656852722168, 15.97756290435791, 10.850632667541504, 13.317593574523926, 16.83467674255371, 12.58645248413086, 12.849202156066895, 10.566856384277344, 10.13456916809082, 11.328721046447754, 13.889660835266113, 10.830068588256836, 14.811318397521973, 10.231293678283691, 16.36758804321289, 13.617424011230469, 13.21292781829834, 11.330045700073242, 16.153104782104492, 15.16137981414795, 13.808601379394531, 12.230897903442383, 15.72000789642334, 15.425543785095215, 11.468214988708496, 10.807628631591797, 14.389181137084961, 14.95650577545166, 10.677526473999023, 12.77975082397461, 16.98284912109375, 13.766467094421387, 16.605281829833984, 16.459203720092773, 11.320137023925781, 14.60411262512207, 16.901681900024414, 11.660922050476074, 14.411160469055176, 11.727481842041016, 15.314745903015137, 14.37819766998291, 14.620386123657227, 14.357420921325684, 15.713237762451172, 14.891940116882324, 14.865033149719238, 14.364163398742676, 16.28429412841797, 12.750802040100098, 10.910385131835938, 14.586753845214844, 11.621216773986816, 10.174395561218262, 11.027776718139648, 10.488873481750488, 16.228839874267578, 10.94787311553955, 10.770198822021484, 12.964458465576172, 14.299677848815918, 10.393787384033203, 16.83266258239746, 14.371180534362793, 16.59723472595215, 16.53423500061035, 15.655129432678223, 12.250487327575684, 12.726893424987793, 12.52619743347168, 16.35218620300293, 11.181278228759766, 11.262908935546875, 10.443750381469727, 12.46553897857666, 13.00711441040039, 14.508031845092773, 15.376255989074707, 14.581928253173828, 16.81988525390625, 11.473621368408203, 11.618633270263672, 12.456637382507324, 12.077826499938965, 11.070643424987793, 12.637482643127441, 15.92477798461914, 10.994464874267578, 16.770776748657227, 16.7353458404541, 16.70861053466797, 12.895956039428711, 14.780144691467285, 10.218307495117188, 14.62642765045166, 11.669686317443848, 12.282369613647461, 12.243441581726074, 12.81860065460205, 13.58462142944336, 13.435145378112793, 13.64941692352295, 14.489781379699707, 12.308545112609863, 12.297735214233398, 11.123346328735352, 15.913448333740234, 12.700820922851562], \"xaxis\": \"x\", \"y\": [5.852715969085693, 4.299774646759033, 4.967495441436768, 5.909599781036377, 7.92752742767334, 4.056110858917236, 5.999390125274658, 7.847586631774902, 7.767355918884277, 6.591012954711914, 5.02126407623291, 5.960447311401367, 4.268150806427002, 7.966111660003662, 5.9527177810668945, 4.094903469085693, 7.012058258056641, 6.681088924407959, 4.692290782928467, 4.149288654327393, 6.545056343078613, 6.347010612487793, 5.171537399291992, 6.8357672691345215, 6.7972002029418945, 6.66374397277832, 5.1892924308776855, 6.688217639923096, 7.842848300933838, 5.773636817932129, 4.642716884613037, 5.595520496368408, 6.042126655578613, 4.718542575836182, 4.170210361480713, 8.226606369018555, 7.161558628082275, 5.456234455108643, 5.838717937469482, 7.000342845916748, 7.273690700531006, 6.469191074371338, 5.474565505981445, 6.254725933074951, 7.070964336395264, 6.880146503448486, 4.38547420501709, 4.4143218994140625, 7.628593444824219, 7.859257221221924, 4.847349643707275, 5.956966400146484, 4.489826202392578, 7.250411510467529, 4.265152454376221, 7.27140474319458, 6.82532262802124, 6.097934246063232, 7.012146949768066, 5.774248123168945, 5.530975341796875, 5.440464973449707, 7.817380905151367, 7.689354419708252, 5.49296760559082, 6.38076639175415, 6.450601100921631, 5.681996822357178, 7.151256084442139, 7.623054504394531, 7.279393672943115, 4.759437084197998, 4.6953349113464355, 7.2491135597229, 6.030825138092041, 4.849782466888428, 5.260535717010498, 5.494811058044434, 6.966330528259277, 4.6765666007995605, 4.80552339553833, 4.0451226234436035, 5.735134601593018, 6.246705532073975, 8.419095993041992, 5.984347820281982, 6.762701034545898, 6.732691287994385, 4.5619120597839355, 5.900694847106934, 7.393188953399658, 5.505947589874268, 6.088872909545898, 7.8027191162109375, 7.149168014526367, 7.049790382385254, 6.337977409362793, 7.1551127433776855, 4.409665107727051, 5.608246326446533, 5.81219482421875, 4.812406063079834, 3.930332660675049, 4.453953266143799, 6.842132568359375, 4.452484607696533, 4.058194160461426, 7.872887134552002, 7.854182243347168, 6.380506992340088, 7.479092121124268, 7.723128795623779, 4.805178642272949, 7.371262550354004, 7.382816314697266, 7.007371425628662, 6.341058254241943, 4.886029243469238, 4.407927989959717, 6.14591646194458, 4.711599349975586, 7.814731597900391, 5.970242023468018, 7.747904300689697, 7.409433841705322, 7.806956768035889, 6.3138227462768555, 7.711986541748047, 7.230411052703857, 4.722714424133301, 5.286334037780762, 5.200788497924805, 6.0882062911987305, 4.481383800506592, 7.121621131896973, 7.227853775024414, 6.169864177703857, 4.658880233764648, 4.76296329498291, 6.044034481048584, 6.436264991760254, 5.872872829437256, 5.646233558654785, 7.667313575744629, 4.746247291564941, 4.834500789642334, 7.923851013183594, 4.9372429847717285, 6.02005672454834, 6.441658020019531, 4.367805480957031, 5.006491184234619, 5.773828029632568, 7.291836738586426, 5.066902160644531, 7.595442295074463, 4.015829563140869, 5.8616042137146, 6.691792011260986, 4.166834354400635, 7.441007137298584, 5.678038597106934, 7.240049362182617, 7.342642307281494, 7.790096759796143, 7.332507133483887, 6.78857421875, 5.054810523986816, 6.566140174865723, 6.284688472747803, 6.9372735023498535, 6.179833889007568, 6.185682773590088, 6.733977317810059, 4.4437384605407715, 6.940178871154785, 4.011117935180664, 6.7718825340271, 7.10469388961792, 7.960306644439697, 5.3928141593933105, 6.761491298675537, 6.661433696746826, 5.15395975112915, 6.099599361419678, 6.298679351806641, 7.2241058349609375, 6.054139614105225, 6.670793533325195, 7.538678169250488, 4.496453762054443, 4.332798004150391, 7.3373026847839355, 3.996591806411743, 6.554407119750977, 7.868740081787109, 6.6992316246032715, 5.827195167541504, 6.500977993011475, 5.045943260192871, 6.428334712982178, 5.7966485023498535, 4.324783802032471, 8.069916725158691, 5.987051963806152, 6.932056903839111, 4.062792778015137, 6.184998035430908, 3.978527784347534, 7.57956600189209, 4.44704532623291, 6.989515781402588, 7.7421746253967285, 4.725848197937012, 8.254768371582031, 5.364067554473877, 8.011213302612305, 6.4023661613464355, 5.832311630249023, 6.844536304473877, 7.918037414550781, 5.736069202423096, 5.351699352264404, 6.998294830322266, 6.530824184417725, 7.587079048156738, 7.364017009735107, 4.869367599487305, 5.235839366912842, 6.279788970947266, 5.586902618408203, 6.863440036773682, 6.754099369049072, 4.806319713592529, 6.212575435638428, 8.017508506774902, 6.209076404571533, 5.790903091430664, 7.1984429359436035, 5.928842067718506, 7.702625751495361, 5.198319911956787, 7.684531211853027, 4.588557243347168, 7.363490581512451, 4.848847389221191, 6.150910377502441, 5.304447650909424, 7.120707035064697, 4.249279975891113, 6.371306896209717, 7.790925979614258, 7.631651878356934, 5.591359615325928, 6.821775913238525, 7.6961846351623535, 6.113300323486328, 7.7188944816589355, 5.738195896148682, 6.2589430809021, 6.095576763153076, 6.132295608520508, 4.929781913757324, 5.905303001403809, 5.88040828704834, 6.074242115020752, 6.353429317474365, 6.783398628234863, 3.9701263904571533, 6.815943241119385, 4.8254170417785645, 4.387050628662109, 4.014375686645508, 7.549757480621338, 6.061854839324951, 6.2791900634765625, 4.1314921379089355, 4.430477619171143, 5.170264720916748, 7.696314334869385, 5.453001976013184, 7.852867126464844, 4.4805779457092285, 4.285196781158447, 6.62239408493042, 4.764467239379883, 7.7972822189331055, 5.936625957489014, 4.94474983215332, 6.076281547546387, 5.499274253845215, 6.575936317443848, 6.410938739776611, 7.853116512298584, 7.805064678192139, 4.941092014312744, 5.001280307769775, 5.978463172912598, 4.811367034912109, 8.29991340637207, 5.95289945602417, 6.966550827026367, 7.6443562507629395, 4.812139987945557, 8.214091300964355, 6.151737213134766, 5.935077667236328, 5.305024147033691, 4.583174228668213, 4.423540115356445, 6.001642227172852, 6.4422407150268555, 4.392148017883301, 6.245672702789307, 7.570286750793457, 7.658360958099365, 6.527462005615234, 5.087329864501953, 6.747517108917236, 4.784369945526123, 5.871774673461914, 6.587838649749756, 7.571669101715088, 7.043324947357178, 8.019710540771484, 4.835245132446289, 7.561878681182861, 4.995518207550049, 5.443727493286133, 6.4132843017578125, 4.596297264099121, 4.77165412902832, 7.16140604019165, 4.493992805480957, 7.766428470611572, 6.278407096862793, 7.864912033081055, 4.678657531738281, 5.676418304443359, 6.571779727935791, 6.995124340057373, 6.974400520324707, 5.098214149475098, 6.601105690002441, 6.516009330749512, 7.043462753295898, 4.922102451324463, 5.456038951873779, 4.414794921875, 7.731301784515381, 6.575113773345947, 8.210845947265625, 6.4458112716674805, 5.5454583168029785, 5.171591758728027, 3.95647931098938, 3.991809606552124, 4.560215473175049, 4.195013999938965, 5.286316871643066, 4.4584784507751465, 4.98346471786499, 4.8058648109436035, 4.650354862213135, 4.734659671783447, 7.9103684425354, 7.873119831085205, 8.213661193847656, 7.3718485832214355, 7.572093963623047, 3.9178075790405273, 4.467490196228027, 4.535048007965088, 4.430246829986572, 4.3806657791137695, 6.767875671386719, 3.875237464904785, 5.712884426116943, 5.780066013336182, 4.942935943603516, 5.854118824005127], \"yaxis\": \"y\"}],\n",
              "                        {\"legend\": {\"tracegroupgap\": 0}, \"margin\": {\"t\": 60}, \"template\": {\"data\": {\"bar\": [{\"error_x\": {\"color\": \"#2a3f5f\"}, \"error_y\": {\"color\": \"#2a3f5f\"}, \"marker\": {\"line\": {\"color\": \"#E5ECF6\", \"width\": 0.5}}, \"type\": \"bar\"}], \"barpolar\": [{\"marker\": {\"line\": {\"color\": \"#E5ECF6\", \"width\": 0.5}}, \"type\": \"barpolar\"}], \"carpet\": [{\"aaxis\": {\"endlinecolor\": \"#2a3f5f\", \"gridcolor\": \"white\", \"linecolor\": \"white\", \"minorgridcolor\": \"white\", \"startlinecolor\": \"#2a3f5f\"}, \"baxis\": {\"endlinecolor\": \"#2a3f5f\", \"gridcolor\": \"white\", \"linecolor\": \"white\", \"minorgridcolor\": \"white\", \"startlinecolor\": \"#2a3f5f\"}, \"type\": \"carpet\"}], \"choropleth\": [{\"colorbar\": {\"outlinewidth\": 0, \"ticks\": \"\"}, \"type\": \"choropleth\"}], \"contour\": [{\"colorbar\": {\"outlinewidth\": 0, \"ticks\": \"\"}, \"colorscale\": [[0.0, \"#0d0887\"], [0.1111111111111111, \"#46039f\"], [0.2222222222222222, \"#7201a8\"], [0.3333333333333333, \"#9c179e\"], [0.4444444444444444, \"#bd3786\"], [0.5555555555555556, \"#d8576b\"], [0.6666666666666666, \"#ed7953\"], [0.7777777777777778, \"#fb9f3a\"], [0.8888888888888888, \"#fdca26\"], [1.0, \"#f0f921\"]], \"type\": \"contour\"}], \"contourcarpet\": [{\"colorbar\": {\"outlinewidth\": 0, \"ticks\": \"\"}, \"type\": \"contourcarpet\"}], \"heatmap\": [{\"colorbar\": {\"outlinewidth\": 0, \"ticks\": \"\"}, \"colorscale\": [[0.0, \"#0d0887\"], [0.1111111111111111, \"#46039f\"], [0.2222222222222222, \"#7201a8\"], [0.3333333333333333, \"#9c179e\"], [0.4444444444444444, \"#bd3786\"], [0.5555555555555556, \"#d8576b\"], [0.6666666666666666, \"#ed7953\"], [0.7777777777777778, \"#fb9f3a\"], [0.8888888888888888, \"#fdca26\"], [1.0, \"#f0f921\"]], \"type\": \"heatmap\"}], \"heatmapgl\": [{\"colorbar\": {\"outlinewidth\": 0, \"ticks\": \"\"}, \"colorscale\": [[0.0, \"#0d0887\"], [0.1111111111111111, \"#46039f\"], [0.2222222222222222, \"#7201a8\"], [0.3333333333333333, \"#9c179e\"], [0.4444444444444444, \"#bd3786\"], [0.5555555555555556, \"#d8576b\"], [0.6666666666666666, \"#ed7953\"], [0.7777777777777778, \"#fb9f3a\"], [0.8888888888888888, \"#fdca26\"], [1.0, \"#f0f921\"]], \"type\": \"heatmapgl\"}], \"histogram\": [{\"marker\": {\"colorbar\": {\"outlinewidth\": 0, \"ticks\": \"\"}}, \"type\": \"histogram\"}], \"histogram2d\": [{\"colorbar\": {\"outlinewidth\": 0, \"ticks\": \"\"}, \"colorscale\": [[0.0, \"#0d0887\"], [0.1111111111111111, \"#46039f\"], [0.2222222222222222, \"#7201a8\"], [0.3333333333333333, \"#9c179e\"], [0.4444444444444444, \"#bd3786\"], [0.5555555555555556, \"#d8576b\"], [0.6666666666666666, \"#ed7953\"], [0.7777777777777778, \"#fb9f3a\"], [0.8888888888888888, \"#fdca26\"], [1.0, \"#f0f921\"]], \"type\": \"histogram2d\"}], \"histogram2dcontour\": [{\"colorbar\": {\"outlinewidth\": 0, \"ticks\": \"\"}, \"colorscale\": [[0.0, \"#0d0887\"], [0.1111111111111111, \"#46039f\"], [0.2222222222222222, \"#7201a8\"], [0.3333333333333333, \"#9c179e\"], [0.4444444444444444, \"#bd3786\"], [0.5555555555555556, \"#d8576b\"], [0.6666666666666666, \"#ed7953\"], [0.7777777777777778, \"#fb9f3a\"], [0.8888888888888888, \"#fdca26\"], [1.0, \"#f0f921\"]], \"type\": \"histogram2dcontour\"}], \"mesh3d\": [{\"colorbar\": {\"outlinewidth\": 0, \"ticks\": \"\"}, \"type\": \"mesh3d\"}], \"parcoords\": [{\"line\": {\"colorbar\": {\"outlinewidth\": 0, \"ticks\": \"\"}}, \"type\": \"parcoords\"}], \"pie\": [{\"automargin\": true, \"type\": \"pie\"}], \"scatter\": [{\"marker\": {\"colorbar\": {\"outlinewidth\": 0, \"ticks\": \"\"}}, \"type\": \"scatter\"}], \"scatter3d\": [{\"line\": {\"colorbar\": {\"outlinewidth\": 0, \"ticks\": \"\"}}, \"marker\": {\"colorbar\": {\"outlinewidth\": 0, \"ticks\": \"\"}}, \"type\": \"scatter3d\"}], \"scattercarpet\": [{\"marker\": {\"colorbar\": {\"outlinewidth\": 0, \"ticks\": \"\"}}, \"type\": \"scattercarpet\"}], \"scattergeo\": [{\"marker\": {\"colorbar\": {\"outlinewidth\": 0, \"ticks\": \"\"}}, \"type\": \"scattergeo\"}], \"scattergl\": [{\"marker\": {\"colorbar\": {\"outlinewidth\": 0, \"ticks\": \"\"}}, \"type\": \"scattergl\"}], \"scattermapbox\": [{\"marker\": {\"colorbar\": {\"outlinewidth\": 0, \"ticks\": \"\"}}, \"type\": \"scattermapbox\"}], \"scatterpolar\": [{\"marker\": {\"colorbar\": {\"outlinewidth\": 0, \"ticks\": \"\"}}, \"type\": \"scatterpolar\"}], \"scatterpolargl\": [{\"marker\": {\"colorbar\": {\"outlinewidth\": 0, \"ticks\": \"\"}}, \"type\": \"scatterpolargl\"}], \"scatterternary\": [{\"marker\": {\"colorbar\": {\"outlinewidth\": 0, \"ticks\": \"\"}}, \"type\": \"scatterternary\"}], \"surface\": [{\"colorbar\": {\"outlinewidth\": 0, \"ticks\": \"\"}, \"colorscale\": [[0.0, \"#0d0887\"], [0.1111111111111111, \"#46039f\"], [0.2222222222222222, \"#7201a8\"], [0.3333333333333333, \"#9c179e\"], [0.4444444444444444, \"#bd3786\"], [0.5555555555555556, \"#d8576b\"], [0.6666666666666666, \"#ed7953\"], [0.7777777777777778, \"#fb9f3a\"], [0.8888888888888888, \"#fdca26\"], [1.0, \"#f0f921\"]], \"type\": \"surface\"}], \"table\": [{\"cells\": {\"fill\": {\"color\": \"#EBF0F8\"}, \"line\": {\"color\": \"white\"}}, \"header\": {\"fill\": {\"color\": \"#C8D4E3\"}, \"line\": {\"color\": \"white\"}}, \"type\": \"table\"}]}, \"layout\": {\"annotationdefaults\": {\"arrowcolor\": \"#2a3f5f\", \"arrowhead\": 0, \"arrowwidth\": 1}, \"coloraxis\": {\"colorbar\": {\"outlinewidth\": 0, \"ticks\": \"\"}}, \"colorscale\": {\"diverging\": [[0, \"#8e0152\"], [0.1, \"#c51b7d\"], [0.2, \"#de77ae\"], [0.3, \"#f1b6da\"], [0.4, \"#fde0ef\"], [0.5, \"#f7f7f7\"], [0.6, \"#e6f5d0\"], [0.7, \"#b8e186\"], [0.8, \"#7fbc41\"], [0.9, \"#4d9221\"], [1, \"#276419\"]], \"sequential\": [[0.0, \"#0d0887\"], [0.1111111111111111, \"#46039f\"], [0.2222222222222222, \"#7201a8\"], [0.3333333333333333, \"#9c179e\"], [0.4444444444444444, \"#bd3786\"], [0.5555555555555556, \"#d8576b\"], [0.6666666666666666, \"#ed7953\"], [0.7777777777777778, \"#fb9f3a\"], [0.8888888888888888, \"#fdca26\"], [1.0, \"#f0f921\"]], \"sequentialminus\": [[0.0, \"#0d0887\"], [0.1111111111111111, \"#46039f\"], [0.2222222222222222, \"#7201a8\"], [0.3333333333333333, \"#9c179e\"], [0.4444444444444444, \"#bd3786\"], [0.5555555555555556, \"#d8576b\"], [0.6666666666666666, \"#ed7953\"], [0.7777777777777778, \"#fb9f3a\"], [0.8888888888888888, \"#fdca26\"], [1.0, \"#f0f921\"]]}, \"colorway\": [\"#636efa\", \"#EF553B\", \"#00cc96\", \"#ab63fa\", \"#FFA15A\", \"#19d3f3\", \"#FF6692\", \"#B6E880\", \"#FF97FF\", \"#FECB52\"], \"font\": {\"color\": \"#2a3f5f\"}, \"geo\": {\"bgcolor\": \"white\", \"lakecolor\": \"white\", \"landcolor\": \"#E5ECF6\", \"showlakes\": true, \"showland\": true, \"subunitcolor\": \"white\"}, \"hoverlabel\": {\"align\": \"left\"}, \"hovermode\": \"closest\", \"mapbox\": {\"style\": \"light\"}, \"paper_bgcolor\": \"white\", \"plot_bgcolor\": \"#E5ECF6\", \"polar\": {\"angularaxis\": {\"gridcolor\": \"white\", \"linecolor\": \"white\", \"ticks\": \"\"}, \"bgcolor\": \"#E5ECF6\", \"radialaxis\": {\"gridcolor\": \"white\", \"linecolor\": \"white\", \"ticks\": \"\"}}, \"scene\": {\"xaxis\": {\"backgroundcolor\": \"#E5ECF6\", \"gridcolor\": \"white\", \"gridwidth\": 2, \"linecolor\": \"white\", \"showbackground\": true, \"ticks\": \"\", \"zerolinecolor\": \"white\"}, \"yaxis\": {\"backgroundcolor\": \"#E5ECF6\", \"gridcolor\": \"white\", \"gridwidth\": 2, \"linecolor\": \"white\", \"showbackground\": true, \"ticks\": \"\", \"zerolinecolor\": \"white\"}, \"zaxis\": {\"backgroundcolor\": \"#E5ECF6\", \"gridcolor\": \"white\", \"gridwidth\": 2, \"linecolor\": \"white\", \"showbackground\": true, \"ticks\": \"\", \"zerolinecolor\": \"white\"}}, \"shapedefaults\": {\"line\": {\"color\": \"#2a3f5f\"}}, \"ternary\": {\"aaxis\": {\"gridcolor\": \"white\", \"linecolor\": \"white\", \"ticks\": \"\"}, \"baxis\": {\"gridcolor\": \"white\", \"linecolor\": \"white\", \"ticks\": \"\"}, \"bgcolor\": \"#E5ECF6\", \"caxis\": {\"gridcolor\": \"white\", \"linecolor\": \"white\", \"ticks\": \"\"}}, \"title\": {\"x\": 0.05}, \"xaxis\": {\"automargin\": true, \"gridcolor\": \"white\", \"linecolor\": \"white\", \"ticks\": \"\", \"title\": {\"standoff\": 15}, \"zerolinecolor\": \"white\", \"zerolinewidth\": 2}, \"yaxis\": {\"automargin\": true, \"gridcolor\": \"white\", \"linecolor\": \"white\", \"ticks\": \"\", \"title\": {\"standoff\": 15}, \"zerolinecolor\": \"white\", \"zerolinewidth\": 2}}}, \"xaxis\": {\"anchor\": \"y\", \"domain\": [0.0, 1.0], \"title\": {\"text\": \"0\"}}, \"yaxis\": {\"anchor\": \"x\", \"domain\": [0.0, 1.0], \"title\": {\"text\": \"1\"}}},\n",
              "                        {\"responsive\": true}\n",
              "                    ).then(function(){\n",
              "                            \n",
              "var gd = document.getElementById('63ba74ed-38d6-474a-8d84-58f8e6b47ebb');\n",
              "var x = new MutationObserver(function (mutations, observer) {{\n",
              "        var display = window.getComputedStyle(gd).display;\n",
              "        if (!display || display === 'none') {{\n",
              "            console.log([gd, 'removed!']);\n",
              "            Plotly.purge(gd);\n",
              "            observer.disconnect();\n",
              "        }}\n",
              "}});\n",
              "\n",
              "// Listen for the removal of the full notebook cells\n",
              "var notebookContainer = gd.closest('#notebook-container');\n",
              "if (notebookContainer) {{\n",
              "    x.observe(notebookContainer, {childList: true});\n",
              "}}\n",
              "\n",
              "// Listen for the clearing of the current output cell\n",
              "var outputEl = gd.closest('.output');\n",
              "if (outputEl) {{\n",
              "    x.observe(outputEl, {childList: true});\n",
              "}}\n",
              "\n",
              "                        })\n",
              "                };\n",
              "                \n",
              "            </script>\n",
              "        </div>\n",
              "</body>\n",
              "</html>"
            ]
          },
          "metadata": {}
        }
      ]
    },
    {
      "cell_type": "code",
      "metadata": {
        "id": "AB75JHnmTSyx"
      },
      "source": [
        "# Will need to get the pageviews for some of this so I can limit the\n",
        "# links and make some nice little things\n",
        "# Example here of getting this into google clcoud\n",
        "# https://codelabs.developers.google.com/codelabs/cloud-bigquery-wikipedia#4\n",
        "\n",
        "# Ehh, just save to drive, these are pretty small (like 500mb each)\n",
        "# https://dumps.wikimedia.org/other/pageview_complete/readme.html\n",
        "# All 8/2021 is only 2.5gb, not the end of the world\n",
        "# https://dumps.wikimedia.org/other/pageview_complete/monthly/2021/2021-08/"
      ],
      "execution_count": null,
      "outputs": []
    },
    {
      "cell_type": "code",
      "metadata": {
        "id": "-q3kCvgNV-Kt"
      },
      "source": [
        "#Basically I want to play with knowledge graphs cause they're fun"
      ],
      "execution_count": null,
      "outputs": []
    },
    {
      "cell_type": "code",
      "metadata": {
        "id": "hmcA8k7-WAsh"
      },
      "source": [
        ""
      ],
      "execution_count": null,
      "outputs": []
    }
  ]
}